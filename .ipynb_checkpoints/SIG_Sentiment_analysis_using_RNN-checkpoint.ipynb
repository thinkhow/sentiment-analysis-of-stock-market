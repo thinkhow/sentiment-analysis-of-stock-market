{
 "cells": [
  {
   "cell_type": "code",
   "execution_count": null,
   "metadata": {
    "colab": {
     "base_uri": "https://localhost:8080/"
    },
    "id": "tiFTM-xgDuE7",
    "outputId": "9470dba5-6a76-4a9e-fbb8-5cbb9b8570ee"
   },
   "outputs": [
    {
     "name": "stdout",
     "output_type": "stream",
     "text": [
      "Mounted at /content/drive/\n"
     ]
    }
   ],
   "source": [
    "#for saving files and trained models to save RAM\n",
    "from google.colab import drive\n",
    "drive.mount('/content/drive/')"
   ]
  },
  {
   "cell_type": "markdown",
   "metadata": {
    "id": "8_XFmDriZrh1"
   },
   "source": [
    "##Install and import packages\n",
    "\n",
    "\n"
   ]
  },
  {
   "cell_type": "code",
   "execution_count": null,
   "metadata": {
    "colab": {
     "base_uri": "https://localhost:8080/"
    },
    "id": "jkToKPWOZquZ",
    "outputId": "9cf9821d-3429-4fbe-df7b-1b8c08ea1cd9"
   },
   "outputs": [
    {
     "name": "stdout",
     "output_type": "stream",
     "text": [
      "Collecting pmaw\n",
      "  Downloading https://files.pythonhosted.org/packages/63/2b/8960ff3bfe60133ab4c79afc3cecaf6d421f90dda2415f52f5520cfa6cc1/pmaw-1.1.0-py3-none-any.whl\n",
      "Requirement already satisfied: pandas in /usr/local/lib/python3.7/dist-packages (1.1.5)\n",
      "Requirement already satisfied: requests in /usr/local/lib/python3.7/dist-packages (from pmaw) (2.23.0)\n",
      "Requirement already satisfied: numpy>=1.15.4 in /usr/local/lib/python3.7/dist-packages (from pandas) (1.19.5)\n",
      "Requirement already satisfied: python-dateutil>=2.7.3 in /usr/local/lib/python3.7/dist-packages (from pandas) (2.8.1)\n",
      "Requirement already satisfied: pytz>=2017.2 in /usr/local/lib/python3.7/dist-packages (from pandas) (2018.9)\n",
      "Requirement already satisfied: chardet<4,>=3.0.2 in /usr/local/lib/python3.7/dist-packages (from requests->pmaw) (3.0.4)\n",
      "Requirement already satisfied: certifi>=2017.4.17 in /usr/local/lib/python3.7/dist-packages (from requests->pmaw) (2020.12.5)\n",
      "Requirement already satisfied: urllib3!=1.25.0,!=1.25.1,<1.26,>=1.21.1 in /usr/local/lib/python3.7/dist-packages (from requests->pmaw) (1.24.3)\n",
      "Requirement already satisfied: idna<3,>=2.5 in /usr/local/lib/python3.7/dist-packages (from requests->pmaw) (2.10)\n",
      "Requirement already satisfied: six>=1.5 in /usr/local/lib/python3.7/dist-packages (from python-dateutil>=2.7.3->pandas) (1.15.0)\n",
      "Installing collected packages: pmaw\n",
      "Successfully installed pmaw-1.1.0\n"
     ]
    }
   ],
   "source": [
    "pip install pmaw pandas"
   ]
  },
  {
   "cell_type": "code",
   "execution_count": null,
   "metadata": {
    "id": "YlRHF14DWErb"
   },
   "outputs": [],
   "source": [
    "import pandas as pd\n",
    "import numpy as np\n",
    "import torch\n",
    "import datetime as dt\n",
    "import keras\n",
    "import tensorflow as tf\n",
    "import matplotlib.pyplot as plt\n",
    "from sklearn.model_selection import TimeSeriesSplit\n",
    "from pmaw import PushshiftAPI"
   ]
  },
  {
   "cell_type": "markdown",
   "metadata": {
    "id": "Mh35Y8GFoc3W"
   },
   "source": [
    "# Scrape data\n"
   ]
  },
  {
   "cell_type": "code",
   "execution_count": null,
   "metadata": {
    "colab": {
     "base_uri": "https://localhost:8080/"
    },
    "id": "p2zXLBO-nh9z",
    "outputId": "aac0bf99-6348-4b95-8b4f-d08873e9f2eb"
   },
   "outputs": [
    {
     "name": "stderr",
     "output_type": "stream",
     "text": [
      "Not all PushShift shards are active. Query results may be incomplete.\n",
      "Not all PushShift shards are active. Query results may be incomplete.\n"
     ]
    },
    {
     "name": "stdout",
     "output_type": "stream",
     "text": [
      "Total:: Success Rate: 100.00% - Requests: 1 - Batches: 1 - Items Remaining: 0\n",
      "Retrieved 100 posts from Pushshift\n"
     ]
    }
   ],
   "source": [
    "api = PushshiftAPI()\n",
    "\n",
    "\n",
    "# choose the timeframe of reddit posts you need\n",
    "before = int(dt.datetime(2021,1,1,0,0).timestamp())\n",
    "after = int(dt.datetime(2020,1,1,0,0).timestamp())\n",
    "\n",
    "subreddit=\"stocks\"\n",
    "limit=100\n",
    "sub = api.search_submissions(subreddit=subreddit, limit=limit, before=before, after=after)\n",
    "print(f'Retrieved {len(sub)} posts from Pushshift')\n",
    "\n",
    "sub_df=pd.DataFrame(sub)\n",
    "y = sub_df.sort_values(by='created_utc')\n",
    "y.to_csv(\"/content/drive/MyDrive/Erdos_Project/Data/sorted_posts.csv\")\n",
    "\n"
   ]
  },
  {
   "cell_type": "markdown",
   "metadata": {
    "id": "9LsFPipq6HAK"
   },
   "source": [
    "# SPY data"
   ]
  },
  {
   "cell_type": "markdown",
   "metadata": {
    "id": "u-ysQj8UZchi"
   },
   "source": [
    "SPY data (Upload kaggle file). Remember to add to folder short cut to your drive before running this.\n",
    "\n"
   ]
  },
  {
   "cell_type": "markdown",
   "metadata": {
    "id": "vYLCNPW-6O_q"
   },
   "source": [
    "Preprocessing to extract 2020 values only"
   ]
  },
  {
   "cell_type": "code",
   "execution_count": null,
   "metadata": {
    "id": "s21JUzipiKHJ"
   },
   "outputs": [],
   "source": [
    "SPY_data_small = pd.read_csv('/content/drive/MyDrive/Erdos_Project/Data/1_min_SPY_2008-2021_SMALL_datetime.csv')"
   ]
  },
  {
   "cell_type": "code",
   "execution_count": null,
   "metadata": {
    "id": "xfeKCy4ApeHl"
   },
   "outputs": [],
   "source": [
    "SPY_data_small['datetime'] = pd.to_datetime(SPY_data_small['date'])"
   ]
  },
  {
   "cell_type": "code",
   "execution_count": null,
   "metadata": {
    "id": "3eVCq45pGyW4"
   },
   "outputs": [],
   "source": [
    "SPY_data_small.to_csv('/content/drive/MyDrive/Erdos_Project/Data/1_min_SPY_2008-2021_SMALL_datetime.csv')"
   ]
  },
  {
   "cell_type": "code",
   "execution_count": null,
   "metadata": {
    "id": "RRXEyg7CqrmM"
   },
   "outputs": [],
   "source": [
    "SPY_Data_2019_2020 = SPY_data_small.loc[(SPY_data_small['datetime']>='2019-01-01')&(SPY_data_small['datetime']<'2021-01-01')].sort_values('date',ascending=True).reset_index()"
   ]
  },
  {
   "cell_type": "code",
   "execution_count": null,
   "metadata": {
    "id": "kfATOOkdtD4E"
   },
   "outputs": [],
   "source": [
    "SPY_Data_2020.to_csv('/content/drive/MyDrive/Erdos_Project/Data/1_min_SPY_2020.csv')"
   ]
  },
  {
   "cell_type": "markdown",
   "metadata": {
    "id": "wFOLURBflFfq"
   },
   "source": [
    "Begin Execution of SPY data here."
   ]
  },
  {
   "cell_type": "code",
   "execution_count": null,
   "metadata": {
    "id": "JeA9_Z9UtR-j"
   },
   "outputs": [],
   "source": [
    "SPY_data_2020 = pd.read_csv('/content/drive/MyDrive/Erdos_Project/Data/1_min_SPY_2020.csv')"
   ]
  },
  {
   "cell_type": "code",
   "execution_count": null,
   "metadata": {
    "id": "HznnIveTMdLM"
   },
   "outputs": [],
   "source": [
    "SPY_data_2020.index = pd.to_datetime(SPY_data_2020['date']) #set the dates to be the index"
   ]
  },
  {
   "cell_type": "code",
   "execution_count": null,
   "metadata": {
    "id": "B28GM71CO4mQ"
   },
   "outputs": [],
   "source": [
    "SPY_data_2020_avg = SPY_data_2020['average'] #use the average for a particular minute"
   ]
  },
  {
   "cell_type": "code",
   "execution_count": null,
   "metadata": {
    "id": "b967tA7aSG4X"
   },
   "outputs": [],
   "source": [
    "#https://machinelearningmastery.com/time-series-prediction-lstm-recurrent-neural-networks-python-keras/\n",
    "def create_dataset(dataset, look_back=1): #adjust each Y value so that they are \"look_back\" ahead of current value\n",
    "\tdataX, dataY = [], []\n",
    "\tfor i in range(len(dataset)-look_back):\n",
    "\t\ta = dataset[i:(i+look_back)]\n",
    "\t\tdataX.append(a)\n",
    "\t\tdataY.append(dataset[i + look_back])\n",
    "\treturn np.array(dataX), np.array(dataY)"
   ]
  },
  {
   "cell_type": "code",
   "execution_count": null,
   "metadata": {
    "id": "QDoALsJKXoGK"
   },
   "outputs": [],
   "source": [
    "from sklearn.preprocessing import MinMaxScaler\n",
    "sc = MinMaxScaler(feature_range = (0, 1))\n",
    "SPY2020_avg_val_transformed = sc.fit_transform( SPY_data_2020_avg.values.reshape(-1,1))\n",
    "look_back=10\n",
    "Xtrain_org, Ytrain = create_dataset(SPY2020_avg_val_transformed,look_back)\n",
    "Ytrain =np.reshape(Ytrain, (-1,1))\n",
    "Xtrain=np.reshape(Xtrain_org, (Xtrain_org.shape[0],Xtrain_org.shape[1],1))"
   ]
  },
  {
   "cell_type": "markdown",
   "metadata": {
    "id": "GuA8RLyUnj8Y"
   },
   "source": [
    "# Sentiment"
   ]
  },
  {
   "cell_type": "markdown",
   "metadata": {
    "id": "tNsffuWPceMT"
   },
   "source": []
  },
  {
   "cell_type": "code",
   "execution_count": null,
   "metadata": {
    "colab": {
     "base_uri": "https://localhost:8080/"
    },
    "id": "ZiGBUThhcUeD",
    "outputId": "434742b5-c0b2-46d0-839c-80011de9a01f"
   },
   "outputs": [
    {
     "name": "stderr",
     "output_type": "stream",
     "text": [
      "/usr/local/lib/python3.7/dist-packages/nltk/twitter/__init__.py:20: UserWarning: The twython library has not been installed. Some functionality from the twitter package will not be available.\n",
      "  warnings.warn(\"The twython library has not been installed. \"\n"
     ]
    },
    {
     "name": "stdout",
     "output_type": "stream",
     "text": [
      "[nltk_data] Downloading package vader_lexicon to /root/nltk_data...\n"
     ]
    },
    {
     "data": {
      "text/plain": [
       "True"
      ]
     },
     "execution_count": 6,
     "metadata": {
      "tags": []
     },
     "output_type": "execute_result"
    }
   ],
   "source": [
    "# Import libraries\n",
    "import pandas as pd\n",
    "from bs4 import BeautifulSoup\n",
    "import matplotlib.pyplot as plt\n",
    "from urllib.request import urlopen\n",
    "from urllib.request import Request\n",
    "from nltk.sentiment.vader import SentimentIntensityAnalyzer\n",
    "import nltk\n",
    "nltk.download('vader_lexicon')"
   ]
  },
  {
   "cell_type": "code",
   "execution_count": null,
   "metadata": {
    "id": "8qJE1QImUO4T"
   },
   "outputs": [],
   "source": [
    "redditcsv= pd.read_csv(\"/content/drive/MyDrive/Erdos_Project/Data/sorted_posts.csv\")\n",
    "\n",
    "#  redditcsv.sort_values(by='comment_created',ascending=False, ignore_index=True, inplace=True)\n",
    "\n",
    "# Sentiment Analysis\n",
    "analyzer = SentimentIntensityAnalyzer()\n",
    "# Date + time into one column -> to_datetime\n",
    "#columns = ['Time', 'Headline'] #change according to your csv\n",
    "#news = pd.DataFrame(parsed_news, columns=columns) #replace parsed_news by your csv file\n",
    "scores = redditcsv['title'].apply(analyzer.polarity_scores).tolist()\n",
    "\n",
    "timestamp = redditcsv['created_utc'].apply(dt.datetime.fromtimestamp)\n",
    "\n",
    "df_scores = pd.DataFrame(scores)\n",
    "redditcsv = redditcsv.join(df_scores)\n",
    "df_time = pd.DataFrame(timestamp)\n",
    "\n",
    "redditcsv = redditcsv.join(df_time,rsuffix='time')"
   ]
  },
  {
   "cell_type": "markdown",
   "metadata": {
    "id": "q4lajpnvXPKP"
   },
   "source": []
  },
  {
   "cell_type": "markdown",
   "metadata": {
    "id": "6GCVCWzKJ0gY"
   },
   "source": [
    "\n",
    "# Average Setiment  \n",
    " \n",
    "<!-- ```\n",
    "# \n",
    "\n",
    "```\n",
    "\n",
    "# Get Data\n",
    "finviz_url = 'https://finviz.com/quote.ashx?t='\n",
    "news_tables = {}\n",
    "\n",
    "for ticker in tickers:\n",
    "    url = finviz_url + ticker\n",
    "    req = Request(url=url,headers={'user-agent': 'my-app/0.0.1'}) \n",
    "    resp = urlopen(req)    \n",
    "    html = BeautifulSoup(resp, features=\"lxml\")\n",
    "    news_table = html.find(id='news-table')\n",
    "    news_tables[ticker] = news_table\n",
    "\n",
    "try:\n",
    "    for ticker in tickers:\n",
    "        df = news_tables[ticker]\n",
    "        df_tr = df.findAll('tr')\n",
    "    \n",
    "        print ('\\n')\n",
    "        print ('Recent News Headlines for {}: '.format(ticker))\n",
    "        \n",
    "        for i, table_row in enumerate(df_tr):\n",
    "            a_text = table_row.a.text\n",
    "            td_text = table_row.td.text\n",
    "            td_text = td_text.strip()\n",
    "            print(a_text,'(',td_text,')')\n",
    "            if i == n-1:\n",
    "#Average sentiment -->\n"
   ]
  },
  {
   "cell_type": "code",
   "execution_count": null,
   "metadata": {
    "colab": {
     "base_uri": "https://localhost:8080/",
     "height": 391
    },
    "id": "VgP1DqagT9OT",
    "outputId": "de27049e-894e-43ba-8260-ed72c359adca"
   },
   "outputs": [
    {
     "ename": "KeyboardInterrupt",
     "evalue": "ignored",
     "output_type": "error",
     "traceback": [
      "\u001b[0;31m---------------------------------------------------------------------------\u001b[0m",
      "\u001b[0;31mKeyboardInterrupt\u001b[0m                         Traceback (most recent call last)",
      "\u001b[0;32m<ipython-input-9-7fbb37aa6863>\u001b[0m in \u001b[0;36m<module>\u001b[0;34m()\u001b[0m\n\u001b[1;32m     30\u001b[0m \u001b[0;34m\u001b[0m\u001b[0m\n\u001b[1;32m     31\u001b[0m     \u001b[0;31m#find all rows in the data with time in the timeframe of i'th market entry and (i-5)th entry\u001b[0m\u001b[0;34m\u001b[0m\u001b[0;34m\u001b[0m\u001b[0;34m\u001b[0m\u001b[0m\n\u001b[0;32m---> 32\u001b[0;31m     \u001b[0mlst\u001b[0m\u001b[0;34m=\u001b[0m\u001b[0mdata\u001b[0m\u001b[0;34m.\u001b[0m\u001b[0mloc\u001b[0m\u001b[0;34m[\u001b[0m \u001b[0;34m(\u001b[0m\u001b[0;34m(\u001b[0m\u001b[0;34m(\u001b[0m\u001b[0mdt\u001b[0m\u001b[0;34m.\u001b[0m\u001b[0mdatetime\u001b[0m\u001b[0;34m.\u001b[0m\u001b[0mstrptime\u001b[0m\u001b[0;34m(\u001b[0m\u001b[0mSPY_2020_date\u001b[0m\u001b[0;34m[\u001b[0m\u001b[0mi\u001b[0m\u001b[0;34m]\u001b[0m\u001b[0;34m,\u001b[0m\u001b[0;34m\"%Y%m%d  %X\"\u001b[0m\u001b[0;34m)\u001b[0m\u001b[0;34m)\u001b[0m\u001b[0;34m-\u001b[0m \u001b[0mwindow\u001b[0m\u001b[0;34m)\u001b[0m \u001b[0;34m<\u001b[0m \u001b[0mdata\u001b[0m\u001b[0;34m[\u001b[0m\u001b[0;34m'ddtime'\u001b[0m\u001b[0;34m]\u001b[0m \u001b[0;34m)\u001b[0m   \u001b[0;34m&\u001b[0m \u001b[0;34m(\u001b[0m\u001b[0mdata\u001b[0m\u001b[0;34m[\u001b[0m\u001b[0;34m'ddtime'\u001b[0m\u001b[0;34m]\u001b[0m\u001b[0;34m<=\u001b[0m\u001b[0;34m(\u001b[0m\u001b[0mdt\u001b[0m\u001b[0;34m.\u001b[0m\u001b[0mdatetime\u001b[0m\u001b[0;34m.\u001b[0m\u001b[0mstrptime\u001b[0m\u001b[0;34m(\u001b[0m\u001b[0mSPY_2020_date\u001b[0m\u001b[0;34m[\u001b[0m\u001b[0mi\u001b[0m\u001b[0;34m]\u001b[0m\u001b[0;34m,\u001b[0m\u001b[0;34m\"%Y%m%d  %X\"\u001b[0m\u001b[0;34m)\u001b[0m\u001b[0;34m)\u001b[0m\u001b[0;34m)\u001b[0m\u001b[0;34m]\u001b[0m \u001b[0;31m# (data['dtime'] <= dt.datetime( SPY_2020_date[i])) precise time window\u001b[0m\u001b[0;34m\u001b[0m\u001b[0;34m\u001b[0m\u001b[0m\n\u001b[0m\u001b[1;32m     33\u001b[0m \u001b[0;34m\u001b[0m\u001b[0m\n\u001b[1;32m     34\u001b[0m     \u001b[0;31m#if it is nonempty, put the mean in the i'th spot of the array ave_sentiment\u001b[0m\u001b[0;34m\u001b[0m\u001b[0;34m\u001b[0m\u001b[0;34m\u001b[0m\u001b[0m\n",
      "\u001b[0;32m/usr/local/lib/python3.7/dist-packages/pandas/core/ops/common.py\u001b[0m in \u001b[0;36mnew_method\u001b[0;34m(self, other)\u001b[0m\n\u001b[1;32m     63\u001b[0m         \u001b[0mother\u001b[0m \u001b[0;34m=\u001b[0m \u001b[0mitem_from_zerodim\u001b[0m\u001b[0;34m(\u001b[0m\u001b[0mother\u001b[0m\u001b[0;34m)\u001b[0m\u001b[0;34m\u001b[0m\u001b[0;34m\u001b[0m\u001b[0m\n\u001b[1;32m     64\u001b[0m \u001b[0;34m\u001b[0m\u001b[0m\n\u001b[0;32m---> 65\u001b[0;31m         \u001b[0;32mreturn\u001b[0m \u001b[0mmethod\u001b[0m\u001b[0;34m(\u001b[0m\u001b[0mself\u001b[0m\u001b[0;34m,\u001b[0m \u001b[0mother\u001b[0m\u001b[0;34m)\u001b[0m\u001b[0;34m\u001b[0m\u001b[0;34m\u001b[0m\u001b[0m\n\u001b[0m\u001b[1;32m     66\u001b[0m \u001b[0;34m\u001b[0m\u001b[0m\n\u001b[1;32m     67\u001b[0m     \u001b[0;32mreturn\u001b[0m \u001b[0mnew_method\u001b[0m\u001b[0;34m\u001b[0m\u001b[0;34m\u001b[0m\u001b[0m\n",
      "\u001b[0;32m/usr/local/lib/python3.7/dist-packages/pandas/core/ops/__init__.py\u001b[0m in \u001b[0;36mwrapper\u001b[0;34m(self, other)\u001b[0m\n\u001b[1;32m    370\u001b[0m         \u001b[0mres_values\u001b[0m \u001b[0;34m=\u001b[0m \u001b[0mcomparison_op\u001b[0m\u001b[0;34m(\u001b[0m\u001b[0mlvalues\u001b[0m\u001b[0;34m,\u001b[0m \u001b[0mrvalues\u001b[0m\u001b[0;34m,\u001b[0m \u001b[0mop\u001b[0m\u001b[0;34m)\u001b[0m\u001b[0;34m\u001b[0m\u001b[0;34m\u001b[0m\u001b[0m\n\u001b[1;32m    371\u001b[0m \u001b[0;34m\u001b[0m\u001b[0m\n\u001b[0;32m--> 372\u001b[0;31m         \u001b[0;32mreturn\u001b[0m \u001b[0mself\u001b[0m\u001b[0;34m.\u001b[0m\u001b[0m_construct_result\u001b[0m\u001b[0;34m(\u001b[0m\u001b[0mres_values\u001b[0m\u001b[0;34m,\u001b[0m \u001b[0mname\u001b[0m\u001b[0;34m=\u001b[0m\u001b[0mres_name\u001b[0m\u001b[0;34m)\u001b[0m\u001b[0;34m\u001b[0m\u001b[0;34m\u001b[0m\u001b[0m\n\u001b[0m\u001b[1;32m    373\u001b[0m \u001b[0;34m\u001b[0m\u001b[0m\n\u001b[1;32m    374\u001b[0m     \u001b[0mwrapper\u001b[0m\u001b[0;34m.\u001b[0m\u001b[0m__name__\u001b[0m \u001b[0;34m=\u001b[0m \u001b[0mop_name\u001b[0m\u001b[0;34m\u001b[0m\u001b[0;34m\u001b[0m\u001b[0m\n",
      "\u001b[0;32m/usr/local/lib/python3.7/dist-packages/pandas/core/series.py\u001b[0m in \u001b[0;36m_construct_result\u001b[0;34m(self, result, name)\u001b[0m\n\u001b[1;32m   2768\u001b[0m         \u001b[0;31m# We do not pass dtype to ensure that the Series constructor\u001b[0m\u001b[0;34m\u001b[0m\u001b[0;34m\u001b[0m\u001b[0;34m\u001b[0m\u001b[0m\n\u001b[1;32m   2769\u001b[0m         \u001b[0;31m#  does inference in the case where `result` has object-dtype.\u001b[0m\u001b[0;34m\u001b[0m\u001b[0;34m\u001b[0m\u001b[0;34m\u001b[0m\u001b[0m\n\u001b[0;32m-> 2770\u001b[0;31m         \u001b[0mout\u001b[0m \u001b[0;34m=\u001b[0m \u001b[0mself\u001b[0m\u001b[0;34m.\u001b[0m\u001b[0m_constructor\u001b[0m\u001b[0;34m(\u001b[0m\u001b[0mresult\u001b[0m\u001b[0;34m,\u001b[0m \u001b[0mindex\u001b[0m\u001b[0;34m=\u001b[0m\u001b[0mself\u001b[0m\u001b[0;34m.\u001b[0m\u001b[0mindex\u001b[0m\u001b[0;34m)\u001b[0m\u001b[0;34m\u001b[0m\u001b[0;34m\u001b[0m\u001b[0m\n\u001b[0m\u001b[1;32m   2771\u001b[0m         \u001b[0mout\u001b[0m \u001b[0;34m=\u001b[0m \u001b[0mout\u001b[0m\u001b[0;34m.\u001b[0m\u001b[0m__finalize__\u001b[0m\u001b[0;34m(\u001b[0m\u001b[0mself\u001b[0m\u001b[0;34m)\u001b[0m\u001b[0;34m\u001b[0m\u001b[0;34m\u001b[0m\u001b[0m\n\u001b[1;32m   2772\u001b[0m \u001b[0;34m\u001b[0m\u001b[0m\n",
      "\u001b[0;32m/usr/local/lib/python3.7/dist-packages/pandas/core/series.py\u001b[0m in \u001b[0;36m__init__\u001b[0;34m(self, data, index, dtype, name, copy, fastpath)\u001b[0m\n\u001b[1;32m    327\u001b[0m                 \u001b[0mdata\u001b[0m \u001b[0;34m=\u001b[0m \u001b[0msanitize_array\u001b[0m\u001b[0;34m(\u001b[0m\u001b[0mdata\u001b[0m\u001b[0;34m,\u001b[0m \u001b[0mindex\u001b[0m\u001b[0;34m,\u001b[0m \u001b[0mdtype\u001b[0m\u001b[0;34m,\u001b[0m \u001b[0mcopy\u001b[0m\u001b[0;34m,\u001b[0m \u001b[0mraise_cast_failure\u001b[0m\u001b[0;34m=\u001b[0m\u001b[0;32mTrue\u001b[0m\u001b[0;34m)\u001b[0m\u001b[0;34m\u001b[0m\u001b[0;34m\u001b[0m\u001b[0m\n\u001b[1;32m    328\u001b[0m \u001b[0;34m\u001b[0m\u001b[0m\n\u001b[0;32m--> 329\u001b[0;31m                 \u001b[0mdata\u001b[0m \u001b[0;34m=\u001b[0m \u001b[0mSingleBlockManager\u001b[0m\u001b[0;34m.\u001b[0m\u001b[0mfrom_array\u001b[0m\u001b[0;34m(\u001b[0m\u001b[0mdata\u001b[0m\u001b[0;34m,\u001b[0m \u001b[0mindex\u001b[0m\u001b[0;34m)\u001b[0m\u001b[0;34m\u001b[0m\u001b[0;34m\u001b[0m\u001b[0m\n\u001b[0m\u001b[1;32m    330\u001b[0m \u001b[0;34m\u001b[0m\u001b[0m\n\u001b[1;32m    331\u001b[0m         \u001b[0mgeneric\u001b[0m\u001b[0;34m.\u001b[0m\u001b[0mNDFrame\u001b[0m\u001b[0;34m.\u001b[0m\u001b[0m__init__\u001b[0m\u001b[0;34m(\u001b[0m\u001b[0mself\u001b[0m\u001b[0;34m,\u001b[0m \u001b[0mdata\u001b[0m\u001b[0;34m)\u001b[0m\u001b[0;34m\u001b[0m\u001b[0;34m\u001b[0m\u001b[0m\n",
      "\u001b[0;32m/usr/local/lib/python3.7/dist-packages/pandas/core/internals/managers.py\u001b[0m in \u001b[0;36mfrom_array\u001b[0;34m(cls, array, index)\u001b[0m\n\u001b[1;32m   1577\u001b[0m         \"\"\"\n\u001b[1;32m   1578\u001b[0m         \u001b[0mblock\u001b[0m \u001b[0;34m=\u001b[0m \u001b[0mmake_block\u001b[0m\u001b[0;34m(\u001b[0m\u001b[0marray\u001b[0m\u001b[0;34m,\u001b[0m \u001b[0mplacement\u001b[0m\u001b[0;34m=\u001b[0m\u001b[0mslice\u001b[0m\u001b[0;34m(\u001b[0m\u001b[0;36m0\u001b[0m\u001b[0;34m,\u001b[0m \u001b[0mlen\u001b[0m\u001b[0;34m(\u001b[0m\u001b[0mindex\u001b[0m\u001b[0;34m)\u001b[0m\u001b[0;34m)\u001b[0m\u001b[0;34m,\u001b[0m \u001b[0mndim\u001b[0m\u001b[0;34m=\u001b[0m\u001b[0;36m1\u001b[0m\u001b[0;34m)\u001b[0m\u001b[0;34m\u001b[0m\u001b[0;34m\u001b[0m\u001b[0m\n\u001b[0;32m-> 1579\u001b[0;31m         \u001b[0;32mreturn\u001b[0m \u001b[0mcls\u001b[0m\u001b[0;34m(\u001b[0m\u001b[0mblock\u001b[0m\u001b[0;34m,\u001b[0m \u001b[0mindex\u001b[0m\u001b[0;34m)\u001b[0m\u001b[0;34m\u001b[0m\u001b[0;34m\u001b[0m\u001b[0m\n\u001b[0m\u001b[1;32m   1580\u001b[0m \u001b[0;34m\u001b[0m\u001b[0m\n\u001b[1;32m   1581\u001b[0m     \u001b[0;32mdef\u001b[0m \u001b[0m_post_setstate\u001b[0m\u001b[0;34m(\u001b[0m\u001b[0mself\u001b[0m\u001b[0;34m)\u001b[0m\u001b[0;34m:\u001b[0m\u001b[0;34m\u001b[0m\u001b[0;34m\u001b[0m\u001b[0m\n",
      "\u001b[0;32m/usr/local/lib/python3.7/dist-packages/pandas/core/internals/managers.py\u001b[0m in \u001b[0;36m__init__\u001b[0;34m(self, block, axis, do_integrity_check, fastpath)\u001b[0m\n\u001b[1;32m   1539\u001b[0m     \u001b[0m_is_single_block\u001b[0m \u001b[0;34m=\u001b[0m \u001b[0;32mTrue\u001b[0m\u001b[0;34m\u001b[0m\u001b[0;34m\u001b[0m\u001b[0m\n\u001b[1;32m   1540\u001b[0m \u001b[0;34m\u001b[0m\u001b[0m\n\u001b[0;32m-> 1541\u001b[0;31m     def __init__(\n\u001b[0m\u001b[1;32m   1542\u001b[0m         \u001b[0mself\u001b[0m\u001b[0;34m,\u001b[0m\u001b[0;34m\u001b[0m\u001b[0;34m\u001b[0m\u001b[0m\n\u001b[1;32m   1543\u001b[0m         \u001b[0mblock\u001b[0m\u001b[0;34m:\u001b[0m \u001b[0mBlock\u001b[0m\u001b[0;34m,\u001b[0m\u001b[0;34m\u001b[0m\u001b[0;34m\u001b[0m\u001b[0m\n",
      "\u001b[0;31mKeyboardInterrupt\u001b[0m: "
     ]
    }
   ],
   "source": [
    "SPY_data=pd.read_csv('/content/drive/MyDrive/Erdos_Project/Data/1_min_SPY_2020.csv')\n",
    "SPY= SPY_data#.tail(100)\n",
    "# print(SPY)\n",
    "\n",
    "# data=pd.read_csv('_withdatetime.csv') # post sentiment score is the file containing the scores and times\n",
    "data=redditcsv\n",
    "from datetime import timedelta\n",
    "SPY_2020_date=SPY['date'].tolist()\n",
    "ave_sentiment=[]\n",
    "window = timedelta(minutes=5)  # time window to average out the comment score\n",
    "\n",
    "\n",
    "#create datetime from timestamp(UNIX Epoch time)\n",
    "\n",
    "timestamp = data['created_utc'].apply(dt.datetime.fromtimestamp)\n",
    "\n",
    "\n",
    "l=[]\n",
    "for i in range(0,len(timestamp)):\n",
    "    l.append(timestamp[i].to_pydatetime())\n",
    "    \n",
    "\n",
    "data['ddtime'] = l # this creates a new time column in our sentiment_score which is now datetime object\n",
    "\n",
    "ave_sentiment=[]\n",
    "  \n",
    "\n",
    "\n",
    "for i in range(len(SPY_2020_date)):  \n",
    "    \n",
    "    #find all rows in the data with time in the timeframe of i'th market entry and (i-5)th entry \n",
    "    lst=data.loc[ (((dt.datetime.strptime(SPY_2020_date[i],\"%Y%m%d  %X\"))- window) < data['ddtime'] )   & (data['ddtime']<=(dt.datetime.strptime(SPY_2020_date[i],\"%Y%m%d  %X\")))] # (data['dtime'] <= dt.datetime( SPY_2020_date[i])) precise time window\n",
    "    \n",
    "    #if it is nonempty, put the mean in the i'th spot of the array ave_sentiment\n",
    "    if ( not lst.empty):\n",
    "      ave=np.mean(lst['compound'])  \n",
    "    else :\n",
    "      ave=0\n",
    "    \n",
    "    ave_sentiment.append(ave)\n",
    "dic={'Average_post_sentiment': ave_sentiment}\n",
    "ave_sentiment=pd.DataFrame(dic)\n",
    "ave_sentiment.to_csv(\"/content/drive/MyDrive/Erdos_Project/Data/Average_Post_ScoreTime.csv\")"
   ]
  },
  {
   "cell_type": "markdown",
   "metadata": {
    "id": "u81lQdMuoVJw"
   },
   "source": [
    "# Network without sentiment\n"
   ]
  },
  {
   "cell_type": "markdown",
   "metadata": {
    "id": "sIgaPtCYOLQa"
   },
   "source": [
    "Recurrent Neural Networks and Long Short Term Memory (RNN and LSTM). The idea is we use the sentiment analysis to produce the score (unsupervised), use RNN to fit the score to the market movement (supervised). For testing, we first calculate the sentiment for the test info (unsupervised), feed it to the trained RRN, and predict the market. \n",
    "Reference: https://arxiv.org/pdf/1705.02447.pdf\n",
    "Github: https://github.com/irfanICMLL/EMM-for-stock-prediction\n",
    "\n"
   ]
  },
  {
   "cell_type": "code",
   "execution_count": null,
   "metadata": {
    "id": "O7N8V68i4GpU"
   },
   "outputs": [],
   "source": [
    "data=Xtrain\n",
    "label=Ytrain\n",
    "r=0.6 #Change the rate here\n",
    "v=0.2 #validation\n",
    "t=1-r-v #test\n",
    "\n",
    "\n",
    "l=len(data)\n",
    "split_point1=int(r*l)\n",
    "split_point2=int((1-t)*l)\n",
    "\n",
    "\n",
    "X_train=data[:split_point1]\n",
    "X_val=data[split_point1:split_point2]\n",
    "X_test=data[split_point2:]\n",
    "\n",
    "Y_train=label[:split_point1].reshape(-1)\n",
    "Y_val=label[split_point1:split_point2].reshape(-1)\n",
    "Y_test=label[split_point2:].reshape(-1)\n",
    "\n",
    "\n",
    "\n"
   ]
  },
  {
   "cell_type": "code",
   "execution_count": null,
   "metadata": {
    "colab": {
     "base_uri": "https://localhost:8080/"
    },
    "id": "v7dGcdEwNS7E",
    "outputId": "daa12328-c76f-4018-d29a-7ab4fcd0638b"
   },
   "outputs": [
    {
     "name": "stdout",
     "output_type": "stream",
     "text": [
      "Epoch 1/20\n",
      "3949/3949 [==============================] - 111s 20ms/step - loss: 0.0057 - val_loss: 2.4389e-05\n",
      "Epoch 2/20\n",
      "3949/3949 [==============================] - 79s 20ms/step - loss: 3.5843e-04 - val_loss: 1.0224e-05\n",
      "Epoch 3/20\n",
      "3949/3949 [==============================] - 81s 20ms/step - loss: 2.5455e-04 - val_loss: 7.8207e-05\n",
      "Epoch 4/20\n",
      "3949/3949 [==============================] - 81s 20ms/step - loss: 2.3800e-04 - val_loss: 4.3889e-04\n",
      "Epoch 5/20\n",
      "3949/3949 [==============================] - 80s 20ms/step - loss: 2.3545e-04 - val_loss: 2.2670e-05\n",
      "Epoch 6/20\n",
      "3949/3949 [==============================] - 81s 21ms/step - loss: 2.3292e-04 - val_loss: 2.2142e-04\n",
      "Epoch 7/20\n",
      "3949/3949 [==============================] - 83s 21ms/step - loss: 2.2046e-04 - val_loss: 5.4333e-06\n",
      "Epoch 8/20\n",
      "3949/3949 [==============================] - 82s 21ms/step - loss: 2.1949e-04 - val_loss: 2.9600e-05\n",
      "Epoch 9/20\n",
      "3949/3949 [==============================] - 81s 21ms/step - loss: 2.0872e-04 - val_loss: 8.1330e-05\n",
      "Epoch 10/20\n",
      "3949/3949 [==============================] - 81s 20ms/step - loss: 2.0624e-04 - val_loss: 5.4974e-05\n",
      "Epoch 11/20\n",
      "3949/3949 [==============================] - 80s 20ms/step - loss: 2.0716e-04 - val_loss: 2.4146e-05\n",
      "Epoch 12/20\n",
      "3949/3949 [==============================] - 78s 20ms/step - loss: 2.0579e-04 - val_loss: 1.3497e-05\n",
      "Epoch 13/20\n",
      "3949/3949 [==============================] - 79s 20ms/step - loss: 2.0039e-04 - val_loss: 1.8161e-05\n",
      "Epoch 14/20\n",
      "3949/3949 [==============================] - 79s 20ms/step - loss: 2.0293e-04 - val_loss: 2.1159e-05\n",
      "Epoch 15/20\n",
      "3949/3949 [==============================] - 79s 20ms/step - loss: 2.0302e-04 - val_loss: 1.4087e-05\n",
      "Epoch 16/20\n",
      "3949/3949 [==============================] - 79s 20ms/step - loss: 1.9626e-04 - val_loss: 3.3744e-06\n",
      "Epoch 17/20\n",
      "3949/3949 [==============================] - 79s 20ms/step - loss: 2.0014e-04 - val_loss: 3.8801e-06\n",
      "Epoch 18/20\n",
      "3949/3949 [==============================] - 80s 20ms/step - loss: 1.9717e-04 - val_loss: 6.7677e-06\n",
      "Epoch 19/20\n",
      "3949/3949 [==============================] - 80s 20ms/step - loss: 1.9537e-04 - val_loss: 1.1804e-05\n",
      "Epoch 20/20\n",
      "3949/3949 [==============================] - 79s 20ms/step - loss: 1.9471e-04 - val_loss: 1.6167e-05\n"
     ]
    },
    {
     "name": "stderr",
     "output_type": "stream",
     "text": [
      "WARNING:absl:Found untraced functions such as lstm_cell_3_layer_call_fn, lstm_cell_3_layer_call_and_return_conditional_losses, lstm_cell_4_layer_call_fn, lstm_cell_4_layer_call_and_return_conditional_losses, lstm_cell_5_layer_call_fn while saving (showing 5 of 15). These functions will not be directly callable after loading.\n"
     ]
    },
    {
     "name": "stdout",
     "output_type": "stream",
     "text": [
      "INFO:tensorflow:Assets written to: /content/drive/MyDrive/Erdos_Project/Data/assets\n"
     ]
    },
    {
     "name": "stderr",
     "output_type": "stream",
     "text": [
      "INFO:tensorflow:Assets written to: /content/drive/MyDrive/Erdos_Project/Data/assets\n"
     ]
    }
   ],
   "source": [
    "#Without \n",
    "model_without = keras.Sequential([                           \n",
    "                           keras.layers.LSTM(50,return_sequences = True),\n",
    "                           keras.layers.Dropout((0.2)),\n",
    "                           keras.layers.LSTM(50,return_sequences = True),\n",
    "                           keras.layers.Dropout((0.2)),\n",
    "                           keras.layers.LSTM(50),\n",
    "                           keras.layers.Dropout((0.2)),\n",
    "                           keras.layers.Dense(1)\n",
    "])\n",
    "opt1 = keras.optimizers.Adam(learning_rate=0.001)\n",
    "model_without.compile(loss='mean_squared_error', optimizer=opt1)\n",
    "\n",
    "batch_size=32\n",
    "epochs =20\n",
    "history = model_without.fit(X_train, Y_train, batch_size=batch_size, epochs=epochs, validation_data=(X_val, Y_val))\n",
    "#save model\n",
    "model_without.save(\"/content/drive/MyDrive/Erdos_Project/Data/\")\n",
    "train_predict = (model_without.predict(X_train)).reshape(-1)\n",
    "test_predict = (model_without.predict(X_test)).reshape(-1)"
   ]
  },
  {
   "cell_type": "code",
   "execution_count": null,
   "metadata": {
    "colab": {
     "base_uri": "https://localhost:8080/",
     "height": 265
    },
    "id": "Dfq-Fxm6pBNY",
    "outputId": "a70f8abe-7ba7-4430-e112-261c949535f6"
   },
   "outputs": [
    {
     "data": {
      "image/png": "[encoded data removed]",
      "text/plain": [
       "<Figure size 432x288 with 1 Axes>"
      ]
     },
     "metadata": {
      "needs_background": "light",
      "tags": []
     },
     "output_type": "display_data"
    }
   ],
   "source": [
    "#Without version\n",
    "plt.plot(Y_train.reshape(-1))\n",
    "plt.plot(train_predict)\n",
    "plt.legend(['correct', 'prediction'], loc='lower right')\n",
    "plt.show()"
   ]
  },
  {
   "cell_type": "code",
   "execution_count": null,
   "metadata": {
    "colab": {
     "base_uri": "https://localhost:8080/",
     "height": 282
    },
    "id": "xRgz2BR1pQub",
    "outputId": "d43275ee-cb28-4d1b-893d-6448e3342bb7"
   },
   "outputs": [
    {
     "data": {
      "text/plain": [
       "<function matplotlib.pyplot.show>"
      ]
     },
     "execution_count": 14,
     "metadata": {
      "tags": []
     },
     "output_type": "execute_result"
    },
    {
     "data": {
      "image/png": "[encoded data removed]",
      "text/plain": [
       "<Figure size 432x288 with 1 Axes>"
      ]
     },
     "metadata": {
      "needs_background": "light",
      "tags": []
     },
     "output_type": "display_data"
    }
   ],
   "source": [
    "#Without version\n",
    "plt.plot(Y_test.reshape(-1))\n",
    "plt.plot(test_predict)\n",
    "plt.legend(['correct', 'prediction'], loc='lower right')\n",
    "plt.show"
   ]
  },
  {
   "cell_type": "markdown",
   "metadata": {
    "id": "eRnxv8t8Hxil"
   },
   "source": [
    "# Network with senitment reddit\n"
   ]
  },
  {
   "cell_type": "code",
   "execution_count": null,
   "metadata": {
    "id": "G_xJNwb7HwhL"
   },
   "outputs": [],
   "source": [
    "\n",
    "\n",
    "reddit=pd.read_csv(\"/content/drive/MyDrive/Erdos_Project/Data/\"+'Average_Post_ScoreTime.csv')['Average_post_sentiment'].values\n",
    "data= np.concatenate((SPY2020_avg_val_transformed.reshape((-1,1)),reddit.reshape((-1,1))), axis=1)\n",
    "\n",
    "data_transformed = sc.fit_transform( data)\n",
    "\n",
    "X, Y = create_dataset(data_transformed,look_back)\n",
    "Y=Y[:,0]\n",
    "\n",
    "\n",
    "\n",
    "\n",
    "#label_5=find_volatility(Ytrain_5)\n",
    "r=0.6 #Change the rate here\n",
    "v=0.2 #validation\n",
    "t=1-r-v #test\n",
    "\n",
    "\n",
    "l=len(X)\n",
    "split_point1=int(r*l)\n",
    "split_point2=int((1-t)*l)\n",
    "\n",
    "\n",
    "X_train=X[:split_point1]\n",
    "X_val=X[split_point1:split_point2]\n",
    "X_test=X[split_point2:]\n",
    "\n",
    "Y_train=Y[:split_point1].reshape(-1)\n",
    "Y_val=Y[split_point1:split_point2].reshape(-1)\n",
    "Y_test=Y[split_point2:].reshape(-1)\n",
    "\n",
    "\n",
    "\n"
   ]
  },
  {
   "cell_type": "code",
   "execution_count": null,
   "metadata": {
    "colab": {
     "base_uri": "https://localhost:8080/"
    },
    "id": "-uoT68d5HqrF",
    "outputId": "03f69e45-6453-4180-bd39-fce69c9aafa4"
   },
   "outputs": [
    {
     "name": "stdout",
     "output_type": "stream",
     "text": [
      "Epoch 1/20\n",
      "3949/3949 [==============================] - 88s 21ms/step - loss: 0.0049 - val_loss: 6.8413e-05\n",
      "Epoch 2/20\n",
      "3949/3949 [==============================] - 80s 20ms/step - loss: 3.4676e-04 - val_loss: 3.6869e-05\n",
      "Epoch 3/20\n",
      "3949/3949 [==============================] - 79s 20ms/step - loss: 2.5429e-04 - val_loss: 9.7824e-05\n",
      "Epoch 4/20\n",
      "3949/3949 [==============================] - 80s 20ms/step - loss: 2.3787e-04 - val_loss: 1.9417e-05\n",
      "Epoch 5/20\n",
      "3949/3949 [==============================] - 81s 20ms/step - loss: 2.2810e-04 - val_loss: 4.0013e-05\n",
      "Epoch 6/20\n",
      "3949/3949 [==============================] - 81s 21ms/step - loss: 2.2582e-04 - val_loss: 4.6066e-05\n",
      "Epoch 7/20\n",
      "3949/3949 [==============================] - 81s 20ms/step - loss: 2.1610e-04 - val_loss: 3.5519e-05\n",
      "Epoch 8/20\n",
      "3949/3949 [==============================] - 81s 20ms/step - loss: 2.1932e-04 - val_loss: 1.3351e-05\n",
      "Epoch 9/20\n",
      "3949/3949 [==============================] - 81s 20ms/step - loss: 2.0636e-04 - val_loss: 4.1363e-06\n",
      "Epoch 10/20\n",
      "3949/3949 [==============================] - 81s 20ms/step - loss: 2.0171e-04 - val_loss: 3.7324e-06\n",
      "Epoch 11/20\n",
      "3949/3949 [==============================] - 81s 21ms/step - loss: 2.0655e-04 - val_loss: 1.8325e-05\n",
      "Epoch 12/20\n",
      "3949/3949 [==============================] - 80s 20ms/step - loss: 2.0337e-04 - val_loss: 5.3590e-05\n",
      "Epoch 13/20\n",
      "3949/3949 [==============================] - 80s 20ms/step - loss: 1.9835e-04 - val_loss: 1.1404e-04\n",
      "Epoch 14/20\n",
      "3949/3949 [==============================] - 81s 20ms/step - loss: 2.0490e-04 - val_loss: 8.4018e-05\n",
      "Epoch 15/20\n",
      "3949/3949 [==============================] - 80s 20ms/step - loss: 1.9985e-04 - val_loss: 8.5604e-06\n",
      "Epoch 16/20\n",
      "3949/3949 [==============================] - 80s 20ms/step - loss: 1.9825e-04 - val_loss: 3.4144e-05\n",
      "Epoch 17/20\n",
      "3949/3949 [==============================] - 80s 20ms/step - loss: 1.9951e-04 - val_loss: 6.5487e-06\n",
      "Epoch 18/20\n",
      "3949/3949 [==============================] - 79s 20ms/step - loss: 1.9339e-04 - val_loss: 7.7393e-06\n",
      "Epoch 19/20\n",
      "3949/3949 [==============================] - 80s 20ms/step - loss: 1.9565e-04 - val_loss: 2.5988e-05\n",
      "Epoch 20/20\n",
      "3949/3949 [==============================] - 81s 21ms/step - loss: 1.9223e-04 - val_loss: 1.5631e-05\n"
     ]
    },
    {
     "name": "stderr",
     "output_type": "stream",
     "text": [
      "WARNING:absl:Found untraced functions such as lstm_cell_6_layer_call_fn, lstm_cell_6_layer_call_and_return_conditional_losses, lstm_cell_7_layer_call_fn, lstm_cell_7_layer_call_and_return_conditional_losses, lstm_cell_8_layer_call_fn while saving (showing 5 of 15). These functions will not be directly callable after loading.\n"
     ]
    },
    {
     "name": "stdout",
     "output_type": "stream",
     "text": [
      "INFO:tensorflow:Assets written to: /content/drive/MyDrive/Erdos_Project/Data/assets\n"
     ]
    },
    {
     "name": "stderr",
     "output_type": "stream",
     "text": [
      "INFO:tensorflow:Assets written to: /content/drive/MyDrive/Erdos_Project/Data/assets\n"
     ]
    }
   ],
   "source": [
    "#With sentiment\n",
    "\n",
    "model_with = keras.Sequential([                           \n",
    "                           keras.layers.LSTM(50,return_sequences = True),\n",
    "                           keras.layers.Dropout((0.2)),\n",
    "                           keras.layers.LSTM(50,return_sequences = True),\n",
    "                           keras.layers.Dropout((0.2)),\n",
    "                           keras.layers.LSTM(50),\n",
    "                           keras.layers.Dropout((0.2)),\n",
    "                           keras.layers.Dense(1)\n",
    "])\n",
    "opt1 = keras.optimizers.Adam(learning_rate=0.001)\n",
    "model_with.compile(loss='mean_squared_error', optimizer=opt1)\n",
    "batch_size=32\n",
    "epochs =20\n",
    "history = model_with.fit(X_train, Y_train, batch_size=batch_size, epochs=epochs, validation_data=(X_val, Y_val))\n",
    "model_with.save(\"/content/drive/MyDrive/Erdos_Project/Data/\")\n",
    "train_predict = (model_with.predict(X_train)).reshape(-1)\n",
    "test_predict = (model_with.predict(X_test)).reshape(-1)"
   ]
  },
  {
   "cell_type": "code",
   "execution_count": null,
   "metadata": {
    "id": "zg_ffF3SNdm_"
   },
   "outputs": [],
   "source": [
    "#With version\n",
    "plt.plot(Y_train.reshape(-1))\n",
    "plt.plot(train_predict)\n",
    "plt.legend(['correct', 'prediction'], loc='lower right')\n",
    "plt.show()"
   ]
  },
  {
   "cell_type": "code",
   "execution_count": null,
   "metadata": {
    "id": "BSUbJl-NbrVj"
   },
   "outputs": [],
   "source": [
    "train_predict = (model_with.predict(X_train)).reshape(-1)\n",
    "test_predict = (model_with.predict(X_test)).reshape(-1)"
   ]
  },
  {
   "cell_type": "code",
   "execution_count": null,
   "metadata": {
    "colab": {
     "base_uri": "https://localhost:8080/",
     "height": 282
    },
    "id": "dMn8Ql-LNlAn",
    "outputId": "be7ddd32-f34a-47b0-a350-03d625104896"
   },
   "outputs": [
    {
     "data": {
      "text/plain": [
       "<function matplotlib.pyplot.show>"
      ]
     },
     "execution_count": 24,
     "metadata": {
      "tags": []
     },
     "output_type": "execute_result"
    },
    {
     "data": {
      "image/png": "[encoded data removed]",
      "text/plain": [
       "<Figure size 432x288 with 1 Axes>"
      ]
     },
     "metadata": {
      "needs_background": "light",
      "tags": []
     },
     "output_type": "display_data"
    }
   ],
   "source": [
    "#With version\n",
    "plt.plot(Y_test.reshape(-1))\n",
    "plt.plot(test_predict)\n",
    "plt.legend(['correct', 'prediction'], loc='lower right')\n",
    "plt.show"
   ]
  },
  {
   "cell_type": "code",
   "execution_count": null,
   "metadata": {
    "id": "P5bPwJsmMtTa"
   },
   "outputs": [],
   "source": []
  }
 ],
 "metadata": {
  "colab": {
   "collapsed_sections": [],
   "name": "SIG-Sentiment analysis using RNN.ipynb",
   "provenance": [],
   "toc_visible": true
  },
  "kernelspec": {
   "display_name": "Python 3",
   "language": "python",
   "name": "python3"
  },
  "language_info": {
   "codemirror_mode": {
    "name": "ipython",
    "version": 3
   },
   "file_extension": ".py",
   "mimetype": "text/x-python",
   "name": "python",
   "nbconvert_exporter": "python",
   "pygments_lexer": "ipython3",
   "version": "3.8.5"
  }
 },
 "nbformat": 4,
 "nbformat_minor": 1
}
